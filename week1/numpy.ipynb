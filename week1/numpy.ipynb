{
 "cells": [
  {
   "cell_type": "code",
   "execution_count": 3,
   "metadata": {},
   "outputs": [
    {
     "data": {
      "text/plain": [
       "array([10, 20, 30, 40, 50])"
      ]
     },
     "execution_count": 3,
     "metadata": {},
     "output_type": "execute_result"
    }
   ],
   "source": [
    "import numpy as np\n",
    "\n",
    "#create a simple array (list)\n",
    "marks=[10,20,30,40,50]\n",
    "\n",
    "#create a numpy array\n",
    "marks_np=np.array([10,20,30,40,50])\n",
    "\n",
    "marks_np\n"
   ]
  },
  {
   "cell_type": "code",
   "execution_count": 5,
   "metadata": {},
   "outputs": [
    {
     "data": {
      "text/plain": [
       "[[10, 20, 30], [40, 50, 60], [70, 80, 90]]"
      ]
     },
     "execution_count": 5,
     "metadata": {},
     "output_type": "execute_result"
    }
   ],
   "source": [
    "#multidimensional numpy\n",
    "marks_2=[[10,20,30],[40,50,60],[70,80,90]]\n",
    "marks_2"
   ]
  },
  {
   "cell_type": "code",
   "execution_count": null,
   "metadata": {},
   "outputs": [
    {
     "data": {
      "text/plain": [
       "array([[10, 20, 30],\n",
       "       [40, 50, 60],\n",
       "       [70, 80, 90]])"
      ]
     },
     "execution_count": 4,
     "metadata": {},
     "output_type": "execute_result"
    }
   ],
   "source": [
    "#multidimensional numpy arrays\n",
    "marks_2d=np.array([[10,20,30],[40,50,60],[70,80,90]])\n",
    "marks_2d"
   ]
  },
  {
   "cell_type": "code",
   "execution_count": 7,
   "metadata": {},
   "outputs": [
    {
     "data": {
      "text/plain": [
       "array([[0., 0., 0.],\n",
       "       [0., 0., 0.],\n",
       "       [0., 0., 0.]])"
      ]
     },
     "execution_count": 7,
     "metadata": {},
     "output_type": "execute_result"
    }
   ],
   "source": [
    "#initialise np array with zeros\n",
    "marks_zeros=np.zeros((3,3))\n",
    "marks_zeros"
   ]
  },
  {
   "cell_type": "code",
   "execution_count": 8,
   "metadata": {},
   "outputs": [
    {
     "data": {
      "text/plain": [
       "array([[1., 1.],\n",
       "       [1., 1.],\n",
       "       [1., 1.],\n",
       "       [1., 1.],\n",
       "       [1., 1.]])"
      ]
     },
     "execution_count": 8,
     "metadata": {},
     "output_type": "execute_result"
    }
   ],
   "source": [
    "#initialise np array with ones\n",
    "marks_ones=np.ones((5,2))\n",
    "marks_ones"
   ]
  },
  {
   "cell_type": "code",
   "execution_count": 10,
   "metadata": {},
   "outputs": [
    {
     "data": {
      "text/plain": [
       "array([0., 0., 0., 0.])"
      ]
     },
     "execution_count": 10,
     "metadata": {},
     "output_type": "execute_result"
    }
   ],
   "source": [
    "x=np.zeros(4)\n",
    "x"
   ]
  },
  {
   "cell_type": "code",
   "execution_count": 21,
   "metadata": {},
   "outputs": [
    {
     "name": "stdout",
     "output_type": "stream",
     "text": [
      "[[0.4149446  0.43345472 0.59339447]\n",
      " [0.57026113 0.354504   0.93398616]\n",
      " [0.01058158 0.9110039  0.14001487]]\n",
      "[[41 43 59]\n",
      " [57 35 93]\n",
      " [ 1 91 14]]\n",
      "[[38 18 66 42 32]\n",
      " [63 67 46 40 47]\n",
      " [15 70 90 59  6]\n",
      " [ 2 56 58 88 39]\n",
      " [42 80 62 52  9]]\n"
     ]
    }
   ],
   "source": [
    "import math\n",
    "\n",
    "#initialise an array with random numbers\n",
    "marks_random=np.random.rand(3,3)\n",
    "print(marks_random)\n",
    "\n",
    "marks_random=marks_random*100\n",
    "marks_random=marks_random.astype(int)\n",
    "print(marks_random)\n",
    "\n",
    "\n",
    "marks_random=np.random.randint(1,100,(5,5))\n",
    "print(marks_random)"
   ]
  },
  {
   "cell_type": "code",
   "execution_count": 28,
   "metadata": {},
   "outputs": [
    {
     "name": "stdout",
     "output_type": "stream",
     "text": [
      "10\n",
      "20\n",
      "[10 20 30 40 50 60]\n",
      "[10 20 30]\n",
      "[40 50 60]\n"
     ]
    }
   ],
   "source": [
    "marks=np.array([10,20,30,40,50])\n",
    "\n",
    "#accessing elements\n",
    "print(marks[0])\n",
    "print(marks[1])\n",
    "\n",
    "#Adding elements\n",
    "marks=np.append(marks,60)\n",
    "print(marks)\n",
    "\n",
    "\n",
    "marks2=marks[:3]\n",
    "print(marks2)\n",
    "\n",
    "marks3=marks[3:]\n",
    "print(marks3)   "
   ]
  },
  {
   "cell_type": "code",
   "execution_count": 30,
   "metadata": {},
   "outputs": [
    {
     "name": "stdout",
     "output_type": "stream",
     "text": [
      "[20 40 60]\n",
      "[ 60  90 120]\n"
     ]
    }
   ],
   "source": [
    "marks1=np.array([10,20,30])\n",
    "marks2=np.array([40,50,60])\n",
    "\n",
    "marks1=marks1*2\n",
    "print(marks1)\n",
    "\n",
    "marks3=marks1+marks2\n",
    "print(marks3)"
   ]
  },
  {
   "cell_type": "code",
   "execution_count": 36,
   "metadata": {},
   "outputs": [
    {
     "name": "stdout",
     "output_type": "stream",
     "text": [
      "150\n",
      "30.0\n",
      "50\n",
      "30.0\n",
      "[3.16227766 4.47213595 5.47722558 6.32455532 7.07106781]\n"
     ]
    }
   ],
   "source": [
    "marks=np.array([10,20,30,40,50])\n",
    "\n",
    "sum=np.sum(marks)\n",
    "print(sum)\n",
    "\n",
    "avg=np.mean(marks)\n",
    "print(avg)\n",
    "\n",
    "max=np.max(marks)\n",
    "print(max)\n",
    "\n",
    "mean=marks.mean()\n",
    "print(mean)\n",
    "\n",
    "sqrt=np.sqrt(marks)\n",
    "print(sqrt)\n",
    "\n"
   ]
  },
  {
   "cell_type": "code",
   "execution_count": 39,
   "metadata": {},
   "outputs": [
    {
     "name": "stdout",
     "output_type": "stream",
     "text": [
      "[[10 20 30]\n",
      " [40 50 60]]\n",
      "(2, 3)\n",
      "[[10 20]\n",
      " [30 40]\n",
      " [50 60]]\n"
     ]
    }
   ],
   "source": [
    "marks=np.array([[10,20,30],[40,50,60]])\n",
    "print(marks)\n",
    "print(marks.shape)\n",
    "\n",
    "#reshaping the array\n",
    "marks=marks.reshape(3,2)\n",
    "print(marks)"
   ]
  },
  {
   "cell_type": "code",
   "execution_count": null,
   "metadata": {},
   "outputs": [
    {
     "name": "stdout",
     "output_type": "stream",
     "text": [
      "[[10 20 30]\n",
      " [40 50 60]]\n",
      "[10 20 30 40 50 60]\n"
     ]
    }
   ],
   "source": [
    "#flattening the array\n",
    "marks=np.array([[10,20,30],[40,50,60]])\n",
    "print(marks)\n",
    "\n",
    "marks=marks.flatten()\n",
    "print(marks)"
   ]
  },
  {
   "cell_type": "code",
   "execution_count": 43,
   "metadata": {},
   "outputs": [
    {
     "name": "stdout",
     "output_type": "stream",
     "text": [
      "[[77 57]\n",
      " [34 14]\n",
      " [86 14]\n",
      " [76 80]\n",
      " [10  7]]\n",
      "[[77 34 86 76 10]\n",
      " [57 14 14 80  7]]\n"
     ]
    }
   ],
   "source": [
    "#transpose array\n",
    "#generate 5*2 array\n",
    "marks=np.random.randint(1,100,(5,2))\n",
    "print(marks)\n",
    "\n",
    "#transpose the array\n",
    "marks=marks.T\n",
    "print(marks)"
   ]
  },
  {
   "cell_type": "code",
   "execution_count": 44,
   "metadata": {},
   "outputs": [
    {
     "name": "stdout",
     "output_type": "stream",
     "text": [
      "[10 20 30 40 50 60]\n"
     ]
    }
   ],
   "source": [
    "#concatenate arrays\n",
    "marks1=np.array([10,20,30])\n",
    "marks2=np.array([40,50,60])\n",
    "\n",
    "marks=np.concatenate((marks1,marks2))\n",
    "print(marks)"
   ]
  }
 ],
 "metadata": {
  "kernelspec": {
   "display_name": "Python 3",
   "language": "python",
   "name": "python3"
  },
  "language_info": {
   "codemirror_mode": {
    "name": "ipython",
    "version": 3
   },
   "file_extension": ".py",
   "mimetype": "text/x-python",
   "name": "python",
   "nbconvert_exporter": "python",
   "pygments_lexer": "ipython3",
   "version": "3.10.2"
  }
 },
 "nbformat": 4,
 "nbformat_minor": 2
}
